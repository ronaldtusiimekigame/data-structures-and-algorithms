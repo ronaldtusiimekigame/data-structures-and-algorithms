{
 "cells": [
  {
   "cell_type": "code",
   "execution_count": null,
   "metadata": {},
   "outputs": [],
   "source": [
    "#Assignment 1\n",
    "number_to_replace = int(input(\"Enter an integer to replace the middle number: \"))\n",
    "numbers = [1, 2, 3, 4, 5]\n",
    "numbers[2] = number_to_replace  # Replacing the midle number,\n",
    "\n",
    "numbers.pop()\n",
    "\n",
    "print(\"Length of the list:\", len(numbers))\n"
   ]
  },
  {
   "cell_type": "code",
   "execution_count": null,
   "metadata": {},
   "outputs": [],
   "source": [
    "# Assignment 2\n",
    "\n",
    "beatles = []\n",
    "\n",
    "beatles.append(\"John Lennon\")\n",
    "beatles.append(\"Paul McCartney\")\n",
    "beatles.append(\"George Harrison\")\n",
    "\n",
    "for _ in range(2):\n",
    "    new_member = input(\"Enter a member to add to the list: \")\n",
    "    beatles.append(new_member)\n",
    "\n",
    "del beatles[3:5]\n",
    "\n",
    "beatles.insert(0, \"Ringo Starr\")\n",
    "\n",
    "print(\"Updated Beatles list:\", beatles)\n"
   ]
  },
  {
   "cell_type": "code",
   "execution_count": null,
   "metadata": {},
   "outputs": [],
   "source": [
    "# Assignment 3\n",
    "\n",
    "source_list = [1, 2, 2, 3, 4, 4, 5, 5]\n",
    "\n",
    "unique_list = []\n",
    "\n",
    "for num in source_list:\n",
    "    if num not in unique_list:\n",
    "        unique_list.append(num)\n",
    "\n",
    "print(\"List with repetitions removed:\", unique_list)\n"
   ]
  }
 ],
 "metadata": {
  "language_info": {
   "name": "python"
  },
  "orig_nbformat": 4
 },
 "nbformat": 4,
 "nbformat_minor": 2
}
